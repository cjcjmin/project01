{
 "cells": [
  {
   "cell_type": "markdown",
   "metadata": {},
   "source": [
    "# 1. 4개의 직사각형이 차지하는 면적"
   ]
  },
  {
   "cell_type": "code",
   "execution_count": 1,
   "metadata": {},
   "outputs": [
    {
     "name": "stdout",
     "output_type": "stream",
     "text": [
      "1 2 4 4\n",
      "2 3 5 7\n",
      "3 1 6 5\n",
      "7 3 8 6\n",
      "26\n"
     ]
    }
   ],
   "source": [
    "li = [list(map(int, input().split())) for _ in range(4)]\n",
    "map = [[0]*1001 for _ in range(1001)]\n",
    "\n",
    "cnt = 0\n",
    "for l in li:\n",
    "    for i in range(l[0], l[2]):\n",
    "        for j in range(l[1], l[3]):\n",
    "            if  map[j-1][i-1] == 0:\n",
    "                map[j-1][i-1] = 1\n",
    "                cnt += 1\n",
    "print(cnt)"
   ]
  },
  {
   "cell_type": "markdown",
   "metadata": {},
   "source": [
    "# 2. '하늘과 바람과 별과 시' 에 수록된 모든 시 제목을 출력하시오."
   ]
  },
  {
   "cell_type": "code",
   "execution_count": 3,
   "metadata": {},
   "outputs": [
    {
     "name": "stdout",
     "output_type": "stream",
     "text": [
      "서시\n",
      "자화상\n",
      "소년\n",
      "눈 오는 지도\n",
      "돌아와 보는 밤\n",
      "병원\n",
      "새로운 길\n",
      "간판 없는 거리\n",
      "태초의 아침\n",
      "또 태초의 아침\n",
      "새벽이 올 때까지\n",
      "무서운 시간\n",
      "십자가\n",
      "바람이 불어\n",
      "슬픈 족속\n",
      "눈감고 간다\n",
      "또 다른 고향\n",
      "길\n",
      "별 헤는 밤\n"
     ]
    }
   ],
   "source": [
    "from bs4 import BeautifulSoup\n",
    "import urllib.request as req\n",
    "\n",
    "url = \"https://ko.wikisource.org/wiki/%EC%A0%80%EC%9E%90:%EC%9C%A4%EB%8F%99%EC%A3%BC\"\n",
    "res = req.urlopen(url)\n",
    "soup = BeautifulSoup(res, \"html.parser\")\n",
    "\n",
    "plist = soup.select(\"#mw-content-text > div > ul:nth-child(6) > li > ul > li > a\")\n",
    "\n",
    "for p in plist:\n",
    "    print(p.string)"
   ]
  },
  {
   "cell_type": "markdown",
   "metadata": {},
   "source": [
    "# 3. stackoverflow(python 관련)의 '제목' 부분을 모두 추출하여 출력하시오."
   ]
  },
  {
   "cell_type": "code",
   "execution_count": 4,
   "metadata": {},
   "outputs": [
    {
     "name": "stdout",
     "output_type": "stream",
     "text": [
      "what does the letter 'f' do here?\n",
      "What's the reason it always jumps to the else statement?\n",
      "Python web scraping results not showing\n",
      "opencv installation using cmake\n",
      "ModuleNotFoundError seen when running test\n",
      "How to get the values from the list fo dictionaries and append\n",
      "Why matplotlib circle/patchCollection's point of rotation get changed\n",
      "Reduce the number of xticks in matplotlib dynamically while plotting data of prices vs time\n",
      "RAM crashed for XML to DataFrame conversion function\n",
      "Neural network : How to have less output lines than input?\n",
      "How can I find active number of user using this DWH diagram?\n",
      "Importing Menu from another module to the main module in tkinter\n",
      "using colorizing_release_v2.caffemodel to colorize the black and white video\n",
      "How to make a grouped violinplot from dictionary?\n",
      "Create JSON file via Flask REST API\n",
      "Perform calculations on subset of dataframe based on column value\n",
      "Binary classification problem - small difference in predicted probabilites\n",
      "Discord bot which ping minecraft server. Python\n",
      "How do I read coordinates from a csv file into Python?\n",
      "web scraping with selenium xpath\n",
      "Dataframe lookup values based on condition using dictionary\n",
      "How to find the median for dataframe of population with columns of age and count?\n",
      "Mosquitto Password Generation in Python\n",
      "for-based syntax to skip call to 'iter'\n",
      "Size of bubbles in plotly.express.scatter_mapbox\n",
      "Class method changing all variables of that class Python\n",
      "The output for floats in list of tuples\n",
      "Django error: 404 URL Page not found error\n",
      "Pyqt5 + Matplotlib Incompatability?\n",
      "Adding multiple quadratic constraints in DOCPLEX\n",
      "views.py files not recognised as Python files in Pycharm\n",
      "Why is multiprocessing hanging?\n",
      "Change Timestamp format in Dataframe\n",
      "TypeError: cannot unpack non-iterable NoneType object: Cannot find where my data turned into “None Type”\n",
      "Recording Camlink 4k feed with ffmpeg\n",
      "Memcache not closing socket\n",
      "Changing TextEdit to have multiple lines by the press of a Button\n",
      "Boost learning performance after loading a model\n",
      "pydantic: Using property.getter decorator for a field with an alias\n",
      "Receiving incoming mail content with imapclient\n",
      "How to correctly remove focus from entry when checkbutton is selected?\n",
      "Schedule python script to run within the script\n",
      "Parse a complex xml file with Python\n",
      "Sequential k-means does not work properly when using partial_fit in MiniBatchKMeans() from sci-kit learn\n",
      "Django: how to count inner `sub_comment_set`?\n",
      "Python: Append 2 columns of a dataframe together\n",
      "Remove last column from large CSV file\n",
      "Error connecting to the Google API with Python\n",
      "Using if else in django models.py\n",
      "Sharing Lambda Functions between multiple accounts using python\n"
     ]
    }
   ],
   "source": [
    "from bs4 import BeautifulSoup\n",
    "import urllib.request as req\n",
    "\n",
    "url = \"https://stackoverflow.com/questions/tagged/python\"\n",
    "res = req.urlopen(url)\n",
    "soup = BeautifulSoup(res, \"html.parser\")\n",
    "\n",
    "tlist = soup.select(\"#questions > div.question-summary > div.summary > h3 > a\")\n",
    "#\n",
    "for t in tlist:\n",
    "    print(t.string)"
   ]
  },
  {
   "cell_type": "markdown",
   "metadata": {},
   "source": [
    "# 4. 검색 포털 사이트 '다음'에 있는 영화 댓글을 추출하시오."
   ]
  },
  {
   "cell_type": "code",
   "execution_count": 7,
   "metadata": {},
   "outputs": [
    {
     "name": "stdout",
     "output_type": "stream",
     "text": [
      "-최근영화중 오락영화론 최고 아무생각없이 보면됩니다. 영화에 의미부여없이 봐도되는영화 \n",
      "\n",
      "-잼있게 보고왔어요. \n",
      "\n",
      "-액션만 볼만하고~ 짜임새있는 이야기 전개나 구성은 넘 부족해보입니다 배우들의 열연은 좋았지만 그외 시나리오~이야기구성은 정말 아닌것 같더군요~ 신세계가 훨씬 재미있었던것 같습니다 \n",
      "\n",
      "-소문난 잔치 먹을 건 많군요 \n",
      "\n",
      "-진짜 초반에 괜찮았는데.. 박정민 뭐고 결말 진짜 거지같음 \n",
      "\n",
      "-재밌게 잘 봤습니다. 코로나시대에 고맙습니다. \n",
      "\n",
      "-정재 배우 정민 배우 역할이 바뀌었으면 어떨지... 서사 없는 단순한 구조에 조큼 실망. \n",
      "\n",
      "-재밌고 액션화려하네요. \n",
      "\n",
      "-초반은 나름 흥미였지만 중반부턴 억지스럽고 지루함. 이정재 는 염라대왕을 아직 못 벗어났고, 박정민은 무슨 그런역할을 맡기나. 손발이 오글거린다 \n",
      "\n",
      "-완전 기대되는 영화다 마스크하고 보러 가야지 영화산업도 우리가 살려야지~~ \n",
      "\n",
      "-정재오빠의 광기가 느껴지는 영화 \n",
      "\n",
      "-액션만 봐라... 이야기는 너무 허술해서 뻔한 전개에 뻔한 마무리... 그럼 그렇지.. 하고 극장을 나오게 된다 \n",
      "\n",
      "-박정민이 ㅋㅋ \n",
      "\n",
      "-가족핑계로 공식연쇄살인을 저지르는 두남자 함께죽다 끝! \n",
      "\n",
      "-15세 등급 맞추려고 필요한 잔인한 장면 생략한게 아쉬워서 9점. 감독판 나오면 10점. 진부하지 않은 캐릭터구성, 꺼리가 있는 스토리라인. 액션 모두 좋았습니다. 두 배우의 캐미에 찬사를~~ \n",
      "\n",
      "-올해나온 한국영화중에 가장 재밌다 간만에 영화다운 영화봄 \n",
      "\n",
      "-와 다른건 모르겟고 황정미 /이정재 케미가 쥑여주네 개쩌네 어번년도 한국영화 1위지 싶네 1천만 관객 가능하겟는데 보고나서 돈 아깝단 생각 안들엇네요 시간들 나시면 가서 봐보세요 극장서보는거랑 집에서 보는거랑은 천지차이이니 다만 악에서 구하소서 제목답노 ㅋㅋ이거보고선 재미없다하는분들 이해 불가네요 ㅎ \n",
      "\n",
      "-액션 좋고, 연기 좋고 시나리어오가 20% 부족.. \n",
      "\n",
      "-액션씬을 뭐 무슨 촬영기법을 썼다는디 몰입감 대박이라 나도 모르게 목 쭉빼고 봄 가장 인상적인 건 이리상이 바로 떠오르는 이정재의 눈빛, 황정민의 팔뚝 핏줄 그리고 박정민의 욕 겁나게 쏟아지는 비까지 뚫고 보러 갔는데 너무 재밌어서 또 볼 예정 \n",
      "\n",
      "-편집이 망친 영화. 아이 옆에서의 황정민 독백 길고 너무 유치. 뒤와 연결도 안됨. 이정재가 세놈 죽인후 황정민 이동 시키라는 부분도 개연성 약하고 유치. 게이도 차라리 정말 아름다운 무게감 있는 배우 썼으면 훨 나았을듯. 걍 짬뽕됨. 수작 될빤한 걸 망작 만든 감독. 황정민.이정재 액션 하나 볼만함. \n",
      "\n",
      "-재밌네요 많이 ㅋ \n",
      "\n",
      "-오랜만에 영화같은영화였습니다 \n",
      "\n",
      "-좋아요...부성애 감정에 이입이 됬는지..조금 울었내요 ㅋㅋ 모두들 연기 잘해요.. \n",
      "\n",
      "-아직 보진못했는데 느낌이 둘이 형제 아닌가요 그걸 황정민만 아는거같고 \n",
      "\n",
      "-잼나요 잼나 박정민 최고 연기는 모두들 잘함듯 \n",
      "\n",
      "-황정민+이정재 조합인데 무슨 말이 필요해 \n",
      "\n",
      "-참돔매운탕 같은 느낌. 저 배우들로 저리 만드네. 그리고 박정민... 와우... \n",
      "\n",
      "-외국영화보다 더 잘만들었어.. 최고최고 \n",
      "\n",
      "-간만에 극장에서 제대로 된 영화를 보고 왔습니다 \n",
      "\n",
      "-영화의 주된 내용과 액션의 스타일은 크리스 헴스워스의 익스트렉션과 비슷 하지만 우리 배우들의 카리스마 vs 카리스마가 불꽃 틴다 \n",
      "\n",
      "-무엇을악에서구한다고?애를?!! \n",
      "\n",
      "-좋은데 2%가 부족한.... 맛집이라고 해서 찾아갔는데 맛이 나쁘진 않았지만 그렇다고 아주 만족스럽지도 않은... \n",
      "\n",
      "-아저씨.레옹.람보 생각남. 해외판권 때문에 이렇게 만들수도.... 잔인한 장면 좀 줄였으면 좋았겠슴 . 지루하진 않음 \n",
      "\n",
      "-생각보다 지루 내용핵심도 모르겠고 \n",
      "\n",
      "-. \n",
      "\n",
      "-왜 자꾸 그리도 잔인한영화를 만드는지...그정도는 되야 사람들이 보니까? \n",
      "\n",
      "-기대이하 \n",
      "\n",
      "-청/불 하고. 조금더 잔인하게 하던지 이건 이도 저도 아닌 영화 ~! 이정재 , 황정민을 이런 씩으로 쓰냐~! \n",
      "\n",
      "-30분만에 영화가 끝난 것처럼 시원시원한 액션~!! 이정재의 미친연기, 황정민 믿고 보는 연기~~!! 그리고 박정민 의 연기는 너무 드럽지만 끝장연기~!! 1000만 가도 안 아까운 영화~!! 한국영화 멋지다~~~!! 다만 코로나에서 구하소서~~~~!! \n",
      "\n",
      "-간만에 웰메이드 볼만해요 \n",
      "\n",
      "-액션물 알못인 입장에서 액션씬에서 카메라워킹? 편집? 이런게 실감나는 부분이 있어서 좋았습니다. 이야기는 그냥 무난하고 배우들의 설정면에서 신선한 점이 있었어요. 신파적인 부분을 예상 못한건 아니지만, 신파씬에서 대사가 넘 지루하고 유치했네요. 전체적으로 가볍게 보기 좋습니다. \n",
      "\n",
      "-이 좋은 배우들로 이 사단을 냈구만. 황정민의 판에 박힌 착한 아빠역. 이정재는 진중함이 없어진 일본 양아치가 되었네. 썸녀랑 영화관가서 정할거없을때 최후의 보루로 추천드립니다. 반도를 볼수는 없으니까... \n",
      "\n",
      "-꿉꿉한 날씨에 이 영화는 꿉꿉하지 않타 주연 조연 따로없는 색다른 영화 \n",
      "\n",
      "-청가 포기하더라도 아저씨 액션씬처럼 좀뎌 리얼하게 구체적으로 나와줬음 울나라에도 명작하나 나올수 있었는데... 나중에 짤린거 포함 감독판 기대합니다 \n",
      "\n"
     ]
    }
   ],
   "source": [
    "from bs4 import BeautifulSoup\n",
    "import urllib.request as req\n",
    "\n",
    "# 5페이지까지 평론 출력 :\n",
    "for i in range(1, 6):\n",
    "    url = \"https://movie.daum.net/moviedb/grade?movieId=127897&type=netizen&page=\"+str(i)\n",
    "    res = req.urlopen(url)\n",
    "    soup = BeautifulSoup(res, \"html.parser\")\n",
    "\n",
    "    vlist = soup.select(\"p.desc_review\")\n",
    "\n",
    "    for v in vlist:\n",
    "        v = v.text.split()\n",
    "        if len(v) != 0:\n",
    "            print(\"-\", end=\"\")\n",
    "            print(\" \".join(v),\"\\n\")"
   ]
  }
 ],
 "metadata": {
  "kernelspec": {
   "display_name": "Python 3",
   "language": "python",
   "name": "python3"
  },
  "language_info": {
   "codemirror_mode": {
    "name": "ipython",
    "version": 3
   },
   "file_extension": ".py",
   "mimetype": "text/x-python",
   "name": "python",
   "nbconvert_exporter": "python",
   "pygments_lexer": "ipython3",
   "version": "3.7.8"
  },
  "toc": {
   "base_numbering": 1,
   "nav_menu": {},
   "number_sections": false,
   "sideBar": true,
   "skip_h1_title": false,
   "title_cell": "Table of Contents",
   "title_sidebar": "Contents",
   "toc_cell": false,
   "toc_position": {},
   "toc_section_display": true,
   "toc_window_display": true
  }
 },
 "nbformat": 4,
 "nbformat_minor": 2
}
